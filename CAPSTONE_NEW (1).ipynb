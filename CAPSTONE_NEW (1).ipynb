{
  "cells": [
    {
      "cell_type": "code",
      "execution_count": 45,
      "metadata": {
        "colab": {
          "base_uri": "https://localhost:8080/"
        },
        "id": "gxoOXGaidq_u",
        "outputId": "0a4ee621-9f9f-4aaf-958a-2786193b170d"
      },
      "outputs": [
        {
          "name": "stdout",
          "output_type": "stream",
          "text": [
            "Requirement already satisfied: xlsxwriter in c:\\users\\hp\\appdata\\local\\programs\\python\\python313\\lib\\site-packages (3.2.0)\n",
            "Note: you may need to restart the kernel to use updated packages.\n"
          ]
        }
      ],
      "source": [
        "%pip install xlsxwriter"
      ]
    },
    {
      "cell_type": "code",
      "execution_count": null,
      "metadata": {},
      "outputs": [
        {
          "ename": "ModuleNotFoundError",
          "evalue": "No module named 'sklearn'",
          "output_type": "error",
          "traceback": [
            "\u001b[1;31m---------------------------------------------------------------------------\u001b[0m",
            "\u001b[1;31mModuleNotFoundError\u001b[0m                       Traceback (most recent call last)",
            "Cell \u001b[1;32mIn[46], line 4\u001b[0m\n\u001b[0;32m      2\u001b[0m \u001b[38;5;28;01mimport\u001b[39;00m \u001b[38;5;21;01mpandas\u001b[39;00m \u001b[38;5;28;01mas\u001b[39;00m \u001b[38;5;21;01mpd\u001b[39;00m\n\u001b[0;32m      3\u001b[0m \u001b[38;5;28;01mimport\u001b[39;00m \u001b[38;5;21;01mnumpy\u001b[39;00m \u001b[38;5;28;01mas\u001b[39;00m \u001b[38;5;21;01mnp\u001b[39;00m\n\u001b[1;32m----> 4\u001b[0m \u001b[38;5;28;01mfrom\u001b[39;00m \u001b[38;5;21;01msklearn\u001b[39;00m\u001b[38;5;21;01m.\u001b[39;00m\u001b[38;5;21;01mmetrics\u001b[39;00m \u001b[38;5;28;01mimport\u001b[39;00m mean_absolute_error, mean_squared_error\n\u001b[0;32m      5\u001b[0m \u001b[38;5;28;01mfrom\u001b[39;00m \u001b[38;5;21;01mmath\u001b[39;00m \u001b[38;5;28;01mimport\u001b[39;00m sqrt\n\u001b[0;32m      6\u001b[0m \u001b[38;5;28;01mfrom\u001b[39;00m \u001b[38;5;21;01mcollections\u001b[39;00m \u001b[38;5;28;01mimport\u001b[39;00m Counter\n",
            "\u001b[1;31mModuleNotFoundError\u001b[0m: No module named 'sklearn'"
          ]
        }
      ],
      "source": [
        "import streamlit as st\n",
        "import pandas as pd\n",
        "import numpy as np\n",
        "from math import sqrt\n",
        "from collections import Counter\n",
        "\n",
        "# Fungsi untuk menentukan keanggotaan Gaussian\n",
        "def gaussian_membership(value, center, sigma):\n",
        "    return np.exp(-0.5 * ((value - center) / sigma) ** 2)\n",
        "\n",
        "# Fungsi untuk defuzzifikasi\n",
        "def defuzzify(fuzzy_set, interval_labels, intervals):\n",
        "    mapping = {label: (intervals[i], intervals[i + 1]) for i, label in enumerate(interval_labels)}\n",
        "    return np.mean(mapping[fuzzy_set])\n",
        "\n",
        "# Fungsi untuk memeriksa stabilitas prediksi\n",
        "def stable_state_check(possible_states, last_values):\n",
        "    if len(set(last_values[-3:])) == 1:\n",
        "        return True\n",
        "    return False\n",
        "\n",
        "# Streamlit UI\n",
        "st.title(\"Fuzzy Forecasting for Sales Data\")\n",
        "\n",
        "# Upload file\n",
        "uploaded_file = st.file_uploader(\"Upload CSV file\", type=\"csv\")\n",
        "if uploaded_file:\n",
        "    df = pd.read_csv(uploaded_file)\n",
        "    st.write(\"### Data Preview\")\n",
        "    st.write(df.head())\n",
        "\n",
        "    # Resampling and preprocessing\n",
        "    try:\n",
        "        df.index = pd.to_datetime(df['Date'])\n",
        "        df = df.drop(columns=['Date'])\n",
        "    except Exception as e:\n",
        "        st.error(\"Error processing the 'Date' column: \" + str(e))\n",
        "\n",
        "    df_resampled = df.resample('M').sum()\n",
        "    produk_columns = df_resampled.columns.tolist()\n",
        "\n",
        "    metrics_list = []  # Menyimpan hasil metrik sebagai list\n",
        "    all_forecasts = {}  # Menyimpan semua prediksi untuk perbandingan antar produk\n",
        "\n",
        "    # Loop untuk setiap produk\n",
        "    for produk in produk_columns:\n",
        "        U_min = df_resampled[produk].min()\n",
        "        U_max = df_resampled[produk].max()\n",
        "        U = np.linspace(U_min, U_max, num=100)\n",
        "\n",
        "        quantiles = df_resampled[produk].quantile(np.linspace(0, 1, num=10)).values\n",
        "        interval_labels = [f\"Interval {i+1}\" for i in range(len(quantiles) - 1)]\n",
        "        intervals = quantiles\n",
        "\n",
        "        def fuzzify(value):\n",
        "            memberships = [\n",
        "                gaussian_membership(value, (intervals[i] + intervals[i + 1]) / 2, (intervals[i + 1] - intervals[i]) / 4)\n",
        "                for i in range(len(interval_labels))\n",
        "            ]\n",
        "            return interval_labels[np.argmax(memberships)]\n",
        "\n",
        "        df_resampled[f\"Fuzzy State {produk}\"] = df_resampled[produk].apply(fuzzify)\n",
        "\n",
        "        relations = []\n",
        "        for i in range(len(df_resampled) - 1):\n",
        "            current_state = df_resampled[f\"Fuzzy State {produk}\"].iloc[i]\n",
        "            next_state = df_resampled[f\"Fuzzy State {produk}\"].iloc[i + 1]\n",
        "            relations.append((current_state, next_state))\n",
        "\n",
        "        rules = {}\n",
        "        for (current, next_) in relations:\n",
        "            if current in rules:\n",
        "                rules[current].append(next_)\n",
        "            else:\n",
        "                rules[current] = [next_]\n",
        "\n",
        "        predicted_values = []\n",
        "        current_state = df_resampled[f\"Fuzzy State {produk}\"].iloc[-1]\n",
        "        last_predictions = []\n",
        "\n",
        "        for i in range(12):\n",
        "            possible_states = rules.get(current_state, [])\n",
        "\n",
        "            if possible_states:\n",
        "                predicted_state = Counter(possible_states).most_common(1)[0][0]\n",
        "                predicted_value = defuzzify(predicted_state, interval_labels, intervals)\n",
        "            else:\n",
        "                predicted_value = defuzzify(current_state, interval_labels, intervals)\n",
        "\n",
        "            last_predictions.append(predicted_value)\n",
        "            predicted_values.append(predicted_value)\n",
        "\n",
        "            if len(last_predictions) >= 3 and stable_state_check(possible_states, last_predictions):\n",
        "                while len(predicted_values) < 12:\n",
        "                    predicted_values.append(predicted_value)\n",
        "                break\n",
        "\n",
        "            current_state = predicted_state\n",
        "\n",
        "        predicted_dates = pd.date_range(start=df_resampled.index[-1] + pd.DateOffset(months=1), periods=12, freq='M')\n",
        "        forecast_df = pd.DataFrame({\n",
        "            f\"Actual {produk}\": df_resampled[produk],\n",
        "            f\"Predicted {produk}\": pd.Series(predicted_values, index=predicted_dates)\n",
        "        })\n",
        "\n",
        "        st.write(f\"### Forecast for {produk}\")\n",
        "        st.line_chart(forecast_df)\n",
        "\n",
        "        actual_sales = df_resampled[produk].iloc[-12:]\n",
        "        mae = mean_absolute_error(actual_sales, predicted_values)\n",
        "        mape = np.mean(np.abs((actual_sales - predicted_values) / actual_sales)) * 100\n",
        "        rmse = sqrt(mean_squared_error(actual_sales, predicted_values))\n",
        "\n",
        "        metrics_list.append({\"Product\": produk, \"MAE\": mae, \"MAPE\": mape, \"RMSE\": rmse})\n",
        "\n",
        "    metrics_df = pd.DataFrame(metrics_list)\n",
        "    st.write(\"### Metrics Summary\")\n",
        "    st.dataframe(metrics_df)\n"
      ]
    }
  ],
  "metadata": {
    "colab": {
      "provenance": []
    },
    "kernelspec": {
      "display_name": "Python 3",
      "name": "python3"
    },
    "language_info": {
      "codemirror_mode": {
        "name": "ipython",
        "version": 3
      },
      "file_extension": ".py",
      "mimetype": "text/x-python",
      "name": "python",
      "nbconvert_exporter": "python",
      "pygments_lexer": "ipython3",
      "version": "3.13.1"
    }
  },
  "nbformat": 4,
  "nbformat_minor": 0
}
